{
  "nbformat": 4,
  "nbformat_minor": 0,
  "metadata": {
    "colab": {
      "provenance": [],
      "authorship_tag": "ABX9TyO9Sm5qf3comuZy41vfJKc0"
    },
    "kernelspec": {
      "name": "python3",
      "display_name": "Python 3"
    },
    "language_info": {
      "name": "python"
    }
  },
  "cells": [
    {
      "cell_type": "code",
      "source": [
        "!python --version"
      ],
      "metadata": {
        "colab": {
          "base_uri": "https://localhost:8080/"
        },
        "id": "tp9T43ZmKHSs",
        "outputId": "b6c3b096-15c8-4890-8cc6-993019f5169e"
      },
      "execution_count": null,
      "outputs": [
        {
          "output_type": "stream",
          "name": "stdout",
          "text": [
            "Python 3.10.12\n"
          ]
        }
      ]
    },
    {
      "cell_type": "code",
      "source": [
        "import numpy as np"
      ],
      "metadata": {
        "id": "QT8T4eu_PKF7"
      },
      "execution_count": null,
      "outputs": []
    },
    {
      "cell_type": "code",
      "source": [
        "import sympy as sp"
      ],
      "metadata": {
        "id": "AeO31DKO9ZtN"
      },
      "execution_count": null,
      "outputs": []
    },
    {
      "cell_type": "code",
      "source": [
        "from fractions import Fraction"
      ],
      "metadata": {
        "id": "uesSCv7jJ5b-"
      },
      "execution_count": null,
      "outputs": []
    },
    {
      "cell_type": "markdown",
      "source": [
        "# Somas de Riemann"
      ],
      "metadata": {
        "id": "m6nqjCShJfsg"
      }
    },
    {
      "cell_type": "markdown",
      "source": [
        "## Introdução"
      ],
      "metadata": {
        "id": "Y-Sa9kA35IMh"
      }
    },
    {
      "cell_type": "markdown",
      "source": [
        "As somas de Riemann são um método para aproximar a integral definida de uma função. Elas envolvem dividir o intervalo sobre o qual a integral deve ser calculada em subintervalos e aproximar a área sob a curva usando retângulos."
      ],
      "metadata": {
        "id": "9PbkeXJSJocu"
      }
    },
    {
      "cell_type": "markdown",
      "source": [
        "Assumindo a função $f(x) = x^2 + 1$, queremos calcular a área formada entre $x = 0$ e $x = 2$."
      ],
      "metadata": {
        "id": "9ZpN4Z-U6J1X"
      }
    },
    {
      "cell_type": "code",
      "source": [
        "def função(x):\n",
        "  return (x ** 2) + 1"
      ],
      "metadata": {
        "id": "H6okBer7DGfa"
      },
      "execution_count": null,
      "outputs": []
    },
    {
      "cell_type": "code",
      "source": [
        "x = sp.symbols('x')"
      ],
      "metadata": {
        "id": "hdmztNfE9dZ2"
      },
      "execution_count": null,
      "outputs": []
    },
    {
      "cell_type": "code",
      "source": [
        "f = (x ** 2) + 1\n",
        "f"
      ],
      "metadata": {
        "colab": {
          "base_uri": "https://localhost:8080/",
          "height": 38
        },
        "id": "QBKsiREc9nrg",
        "outputId": "aa11c8b0-330a-472d-f1bd-4253041b7b24"
      },
      "execution_count": null,
      "outputs": [
        {
          "output_type": "execute_result",
          "data": {
            "text/plain": [
              "x**2 + 1"
            ],
            "text/latex": "$\\displaystyle x^{2} + 1$"
          },
          "metadata": {},
          "execution_count": 163
        }
      ]
    },
    {
      "cell_type": "markdown",
      "source": [
        "Para termos um norte nas partes posteriores, calculamos o resultado exato utilizando o SymPy, para usarmos de referência."
      ],
      "metadata": {
        "id": "ofKL7Oj090Sp"
      }
    },
    {
      "cell_type": "code",
      "source": [
        "sp.integrate(f, (x, 0, 2))"
      ],
      "metadata": {
        "colab": {
          "base_uri": "https://localhost:8080/",
          "height": 51
        },
        "id": "CsGtSw529nuH",
        "outputId": "43a32ab2-69a0-44a4-dc5b-6fd9902c04f6"
      },
      "execution_count": null,
      "outputs": [
        {
          "output_type": "execute_result",
          "data": {
            "text/plain": [
              "14/3"
            ],
            "text/latex": "$\\displaystyle \\frac{14}{3}$"
          },
          "metadata": {},
          "execution_count": 164
        }
      ]
    },
    {
      "cell_type": "code",
      "source": [
        "14 / 3"
      ],
      "metadata": {
        "colab": {
          "base_uri": "https://localhost:8080/"
        },
        "id": "vUp8_7ejNAVr",
        "outputId": "2c243dac-0492-4409-9016-ca4fce854279"
      },
      "execution_count": null,
      "outputs": [
        {
          "output_type": "execute_result",
          "data": {
            "text/plain": [
              "4.666666666666667"
            ]
          },
          "metadata": {},
          "execution_count": 165
        }
      ]
    },
    {
      "cell_type": "markdown",
      "source": [
        "Agora, como podemos aproximar as áreas utilizando as Somas de Riemann?"
      ],
      "metadata": {
        "id": "b9RCKF1D-GjR"
      }
    },
    {
      "cell_type": "markdown",
      "source": [
        "Basicamente, encontraremos a área de $n$ retângulos sob a curva e somá-las. Para o exemplo base, usaremos 4 retângulos."
      ],
      "metadata": {
        "id": "99RpUO3C-THG"
      }
    },
    {
      "cell_type": "markdown",
      "source": [
        "## Base e altura de um retângulo"
      ],
      "metadata": {
        "id": "EcGpObfh-nD6"
      }
    },
    {
      "cell_type": "markdown",
      "source": [
        "Neste contexto, a base de um retângulo (eixo $x$) é conhecida como $\\Delta x$, e sua altura (eixo $y$) como $f(x)$.\n"
      ],
      "metadata": {
        "id": "mpqydscR-uOU"
      }
    },
    {
      "cell_type": "markdown",
      "source": [
        "## Área de um retângulo"
      ],
      "metadata": {
        "id": "5vMfK7i6AbkS"
      }
    },
    {
      "cell_type": "markdown",
      "source": [
        "A fórmula para calcular a área $A$ de um retângulo é dada por $A = c \\cdot l$, onde $c$ é o comprimento e $l$ é a largura do retângulo."
      ],
      "metadata": {
        "id": "vKp4EV6rAqII"
      }
    },
    {
      "cell_type": "markdown",
      "source": [
        "No nosso caso, a área seria dada por $A = \\Delta x \\cdot f(x)$."
      ],
      "metadata": {
        "id": "DilaHz5yA938"
      }
    },
    {
      "cell_type": "markdown",
      "source": [
        "## Área sob a curva"
      ],
      "metadata": {
        "id": "0mviel1v_WAH"
      }
    },
    {
      "cell_type": "markdown",
      "source": [
        "Como em nosso exemplo teremos 4 retângulos, vamos precisar somar a área desses 4 para realizar a aproximação da área da curva."
      ],
      "metadata": {
        "id": "6GmDRdDo_Npv"
      }
    },
    {
      "cell_type": "markdown",
      "source": [
        "$A = \\sum_{i=1}^{n} \\Delta x_i \\cdot f(x_i)$"
      ],
      "metadata": {
        "id": "XAzIdBGS_XpG"
      }
    },
    {
      "cell_type": "markdown",
      "source": [
        "Onde sigma representa a soma das áreas de todos os retângulos."
      ],
      "metadata": {
        "id": "VA8VWiL6BVxp"
      }
    },
    {
      "cell_type": "markdown",
      "source": [
        "## Comprimento ou base de cada retângulo"
      ],
      "metadata": {
        "id": "H_sUbGSEDB2D"
      }
    },
    {
      "cell_type": "markdown",
      "source": [
        "Assumindo o intervalo de $x$ como $[{}_a 0, {}_b 2]$, $\\Delta x$, ou o comprimento de cada retângulo é dado pela diferença entre $b$ e $a$ dividida pelo número de retângulos, ou $\\frac{{b - a}}{{n}}$."
      ],
      "metadata": {
        "id": "Bxuofy0LBkTl"
      }
    },
    {
      "cell_type": "code",
      "source": [
        "a = 0\n",
        "b = 2\n",
        "n = 4"
      ],
      "metadata": {
        "id": "niuT-1QOCpr1"
      },
      "execution_count": null,
      "outputs": []
    },
    {
      "cell_type": "code",
      "source": [
        "f'em nosso exemplo, o comprimento de cada retângulo é {(b - a) / n}'"
      ],
      "metadata": {
        "id": "pvK6Dst2KEBa",
        "colab": {
          "base_uri": "https://localhost:8080/",
          "height": 35
        },
        "outputId": "52b9c61f-463c-4124-9c5e-5cc2696b090e"
      },
      "execution_count": null,
      "outputs": [
        {
          "output_type": "execute_result",
          "data": {
            "text/plain": [
              "'em nosso exemplo, o comprimento de cada retângulo é 0.5'"
            ],
            "application/vnd.google.colaboratory.intrinsic+json": {
              "type": "string"
            }
          },
          "metadata": {},
          "execution_count": 167
        }
      ]
    },
    {
      "cell_type": "code",
      "source": [
        "delta_x = (b - a) / n\n",
        "delta_x"
      ],
      "metadata": {
        "colab": {
          "base_uri": "https://localhost:8080/"
        },
        "id": "2d_DyTIRRKJx",
        "outputId": "7f185bf5-9359-476e-b07e-c44774cc7dff"
      },
      "execution_count": null,
      "outputs": [
        {
          "output_type": "execute_result",
          "data": {
            "text/plain": [
              "0.5"
            ]
          },
          "metadata": {},
          "execution_count": 168
        }
      ]
    },
    {
      "cell_type": "markdown",
      "source": [
        "## Conceitos gerais"
      ],
      "metadata": {
        "id": "Kul8Xm_NEoL9"
      }
    },
    {
      "cell_type": "markdown",
      "source": [
        "Tracemos uma linha imaginária com os seguintes valores: $[0, 0.5, 1, 1.5, 2]$. Teremos 4 intervalos que também podem ser 5 pontos específicos no plano. Os intervalos diferem em 0.5 pois é o valor do comprimento dos retângulos do nosso problema."
      ],
      "metadata": {
        "id": "BA6Ehq1pDjMz"
      }
    },
    {
      "cell_type": "markdown",
      "source": [
        "![image.png](data:image/png;base64,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)"
      ],
      "metadata": {
        "id": "R9X8-oJRNjEx"
      }
    },
    {
      "cell_type": "markdown",
      "source": [
        "Também porquê $n = 4$, vamos utilizar apenas 4 dos pontos da nossa linha imaginária."
      ],
      "metadata": {
        "id": "jY9HPHECELh4"
      }
    },
    {
      "cell_type": "markdown",
      "source": [
        "## Soma de Riemann à Esquerda"
      ],
      "metadata": {
        "id": "ic192FCqJ0ph"
      }
    },
    {
      "cell_type": "markdown",
      "source": [
        "Para realizar a Soma de Riemann à Esquerda, escolhemos $n$ pontos na linha partindo da esquerda."
      ],
      "metadata": {
        "id": "4wzUkqzGEXNi"
      }
    },
    {
      "cell_type": "markdown",
      "source": [
        "No nosso caso, $[0, 0.5, 1, 1.5]$."
      ],
      "metadata": {
        "id": "NAo3yhRGEhkg"
      }
    },
    {
      "cell_type": "markdown",
      "source": [
        "![image.png](data:image/png;base64,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)"
      ],
      "metadata": {
        "id": "usxT1BlyNqc6"
      }
    },
    {
      "cell_type": "markdown",
      "source": [
        "Mantendo em mente que nosso resultado exato atráves do SymPy foi de $\\frac{14}{3}$, vamos ver o quão próximo disso nossa aproximação chegará deste valor utilizando a soma à esquerda.\n"
      ],
      "metadata": {
        "id": "McEdnX4xFzRM"
      }
    },
    {
      "cell_type": "code",
      "source": [
        "14 / 3"
      ],
      "metadata": {
        "colab": {
          "base_uri": "https://localhost:8080/"
        },
        "id": "PF_BKp7oM-AV",
        "outputId": "aa486c14-a936-4796-9b74-01abcbfc7f71"
      },
      "execution_count": null,
      "outputs": [
        {
          "output_type": "execute_result",
          "data": {
            "text/plain": [
              "4.666666666666667"
            ]
          },
          "metadata": {},
          "execution_count": 169
        }
      ]
    },
    {
      "cell_type": "markdown",
      "source": [
        "$A_e = \\sum_{i=1}^{n} \\Delta x_i \\cdot f(x_i)$"
      ],
      "metadata": {
        "id": "1aeNFhOpGyq9"
      }
    },
    {
      "cell_type": "markdown",
      "source": [
        "$A_m = \\Delta x \\cdot [f(0), f(0.5), f(1), f(1.5)]$"
      ],
      "metadata": {
        "id": "XbrJbEYoIHzj"
      }
    },
    {
      "cell_type": "code",
      "source": [
        "delta_x"
      ],
      "metadata": {
        "colab": {
          "base_uri": "https://localhost:8080/"
        },
        "id": "s9GuEYyLIevc",
        "outputId": "f3ba96df-7889-4380-9aec-10e55bad1bbf"
      },
      "execution_count": null,
      "outputs": [
        {
          "output_type": "execute_result",
          "data": {
            "text/plain": [
              "0.5"
            ]
          },
          "metadata": {},
          "execution_count": 170
        }
      ]
    },
    {
      "cell_type": "code",
      "source": [
        "valores_à_esquerda = [0, 0.5, 1, 1.5]\n",
        "soma_à_esquerda = 0\n",
        "\n",
        "for i in range(len(valores_à_esquerda)):\n",
        "  soma_à_esquerda += função(valores_à_esquerda[i])\n",
        "\n",
        "delta_x * soma_à_esquerda, Fraction(delta_x * soma_à_esquerda)"
      ],
      "metadata": {
        "colab": {
          "base_uri": "https://localhost:8080/"
        },
        "id": "nO9kwh3VIexX",
        "outputId": "8537e54d-e661-4b4a-d201-f466ad658990"
      },
      "execution_count": null,
      "outputs": [
        {
          "output_type": "execute_result",
          "data": {
            "text/plain": [
              "(3.75, Fraction(15, 4))"
            ]
          },
          "metadata": {},
          "execution_count": 171
        }
      ]
    },
    {
      "cell_type": "markdown",
      "source": [
        "Notemos que o resultado não é muito próximo do resultado exato que tivemos de $\\frac{14}{3}$, e isto se dá porquê temos um número pequenos de retângulos ($n = 4$). Caso aumentássemos o número de retângulos, a resposta seria mais próxima do valor verdadeiro."
      ],
      "metadata": {
        "id": "GuhsK8PFKYbB"
      }
    },
    {
      "cell_type": "markdown",
      "source": [
        "Notemos também que o resultado da soma à esquerda é menor que $\\frac{14}{3}$, ou seja, uma aproximação inferior. Na soma à esquerda, este comportamento é esperado quando a função é crescente."
      ],
      "metadata": {
        "id": "SsEqWVhnKv7m"
      }
    },
    {
      "cell_type": "markdown",
      "source": [
        "Ainda neste sentido, a soma média normalmente é mais exata que a soma à esquerda ou a soma à direita."
      ],
      "metadata": {
        "id": "HVqOg6t2MWSu"
      }
    },
    {
      "cell_type": "markdown",
      "source": [
        "## Soma de Riemann à Direita"
      ],
      "metadata": {
        "id": "2prV963eJ2eC"
      }
    },
    {
      "cell_type": "markdown",
      "source": [
        "Para realizar a Soma de Riemann à direita, escolhemos $n$ pontos na linha partindo da direita."
      ],
      "metadata": {
        "id": "YbGzAAN2EsC0"
      }
    },
    {
      "cell_type": "markdown",
      "source": [
        "No nosso caso, $[0.5, 1, 1.5, 2]$."
      ],
      "metadata": {
        "id": "03gtnKRbEsC8"
      }
    },
    {
      "cell_type": "markdown",
      "source": [
        "![image.png](data:image/png;base64,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)"
      ],
      "metadata": {
        "id": "S1UwXsO6NxMW"
      }
    },
    {
      "cell_type": "markdown",
      "source": [
        "Mantendo em mente que nosso resultado exato atráves do SymPy foi de $\\frac{14}{3}$, vamos ver o quão próximo disso nossa aproximação chegará deste valor utilizando a soma à direita.\n"
      ],
      "metadata": {
        "id": "s5Whq73HGDUe"
      }
    },
    {
      "cell_type": "code",
      "source": [
        "14 / 3"
      ],
      "metadata": {
        "colab": {
          "base_uri": "https://localhost:8080/"
        },
        "id": "xw51P69hM78M",
        "outputId": "138864ad-a9c9-49d7-e37a-f93c35069125"
      },
      "execution_count": null,
      "outputs": [
        {
          "output_type": "execute_result",
          "data": {
            "text/plain": [
              "4.666666666666667"
            ]
          },
          "metadata": {},
          "execution_count": 172
        }
      ]
    },
    {
      "cell_type": "markdown",
      "source": [
        "$A_d = \\sum_{i=1}^{n} \\Delta x_i \\cdot f(x_i)$"
      ],
      "metadata": {
        "id": "zecX4jqiG3v5"
      }
    },
    {
      "cell_type": "markdown",
      "source": [
        "$A_d = \\Delta x \\cdot [f(0.5), f(1), f(1.5), f(2)]$"
      ],
      "metadata": {
        "id": "B2P1D79PHBmT"
      }
    },
    {
      "cell_type": "code",
      "source": [
        "delta_x"
      ],
      "metadata": {
        "colab": {
          "base_uri": "https://localhost:8080/"
        },
        "id": "G3OikbygI5sw",
        "outputId": "c14f403e-e7c8-4e13-8304-3afd37067c2f"
      },
      "execution_count": null,
      "outputs": [
        {
          "output_type": "execute_result",
          "data": {
            "text/plain": [
              "0.5"
            ]
          },
          "metadata": {},
          "execution_count": 173
        }
      ]
    },
    {
      "cell_type": "code",
      "source": [
        "valores_à_direita = [0.5, 1, 1.5, 2]\n",
        "soma_à_direita = 0\n",
        "\n",
        "for i in range(len(valores_à_direita)):\n",
        "  soma_à_direita += função(valores_à_direita[i])\n",
        "\n",
        "delta_x * soma_à_direita, Fraction(delta_x * soma_à_direita)"
      ],
      "metadata": {
        "id": "5aS4OAUrKEhr",
        "colab": {
          "base_uri": "https://localhost:8080/"
        },
        "outputId": "56f16001-1233-4c5e-97d5-d11db173a9f6"
      },
      "execution_count": null,
      "outputs": [
        {
          "output_type": "execute_result",
          "data": {
            "text/plain": [
              "(5.75, Fraction(23, 4))"
            ]
          },
          "metadata": {},
          "execution_count": 174
        }
      ]
    },
    {
      "cell_type": "markdown",
      "source": [
        "Notemos que o resultado não é muito próximo do resultado exato que tivemos de $\\frac{14}{3}$, e isto se dá porquê temos um número pequenos de retângulos ($n = 4$). Caso aumentássemos o número de retângulos, a resposta seria mais próxima do valor verdadeiro."
      ],
      "metadata": {
        "id": "b2i-fxFnLP0D"
      }
    },
    {
      "cell_type": "markdown",
      "source": [
        "Notemos também que o resultado da soma à direita é maior que $\\frac{14}{3}$, ou seja, uma aproximação superior. Na soma à direita, este comportamento é esperado quando a função é crescente."
      ],
      "metadata": {
        "id": "58Dew-dULP0D"
      }
    },
    {
      "cell_type": "markdown",
      "source": [
        "Ainda neste sentido, a soma média normalmente é mais exata que a soma à esquerda ou a soma à direita."
      ],
      "metadata": {
        "id": "EUErm9c3MYAO"
      }
    },
    {
      "cell_type": "markdown",
      "source": [
        "## Soma Média"
      ],
      "metadata": {
        "id": "9Pp7VLluJ2gM"
      }
    },
    {
      "cell_type": "markdown",
      "source": [
        "Para realizar a Soma Média de Riemann, escolhemos $n$ pontos entre os 5 pontos originais."
      ],
      "metadata": {
        "id": "4kK9FFbUE-4v"
      }
    },
    {
      "cell_type": "markdown",
      "source": [
        "Assumindo a linha imaginária $[0, 0.5, 1, 1.5, 2]$."
      ],
      "metadata": {
        "id": "y8W6bXI8E-41"
      }
    },
    {
      "cell_type": "code",
      "source": [
        "pontos = [0, 0.5, 1, 1.5, 2]\n",
        "médias = []\n",
        "\n",
        "for i in range(len(pontos) - 1):\n",
        "  média = (pontos[i] + pontos[i + 1]) / 2\n",
        "  médias.append(média)\n",
        "\n",
        "médias"
      ],
      "metadata": {
        "id": "e4wYik72KFFW",
        "colab": {
          "base_uri": "https://localhost:8080/"
        },
        "outputId": "b404aa4f-1f1d-4c41-969b-a2080ec527dc"
      },
      "execution_count": null,
      "outputs": [
        {
          "output_type": "execute_result",
          "data": {
            "text/plain": [
              "[0.25, 0.75, 1.25, 1.75]"
            ]
          },
          "metadata": {},
          "execution_count": 175
        }
      ]
    },
    {
      "cell_type": "markdown",
      "source": [
        "![image.png](data:image/png;base64,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)"
      ],
      "metadata": {
        "id": "2fH1T2edN4Qd"
      }
    },
    {
      "cell_type": "markdown",
      "source": [
        "Mantendo em mente que nosso resultado exato atráves do SymPy foi de $\\frac{14}{3}$, vamos ver o quão próximo disso nossa aproximação chegará deste valor utilizando a soma média.\n"
      ],
      "metadata": {
        "id": "y0eEziszGFAZ"
      }
    },
    {
      "cell_type": "code",
      "source": [
        "14 / 3"
      ],
      "metadata": {
        "colab": {
          "base_uri": "https://localhost:8080/"
        },
        "id": "N4BgUffsM4US",
        "outputId": "0f4cd239-f6d6-441a-dc05-260277cd3d50"
      },
      "execution_count": null,
      "outputs": [
        {
          "output_type": "execute_result",
          "data": {
            "text/plain": [
              "4.666666666666667"
            ]
          },
          "metadata": {},
          "execution_count": 176
        }
      ]
    },
    {
      "cell_type": "markdown",
      "source": [
        "$A_m = \\sum_{i=1}^{n} \\Delta x_i \\cdot f(x_i)$"
      ],
      "metadata": {
        "id": "wS5cuwNlG5jX"
      }
    },
    {
      "cell_type": "markdown",
      "source": [
        "$A_m = \\Delta x \\cdot [f(0.25), f(0.75), f(1.25), f(1.75)]$"
      ],
      "metadata": {
        "id": "lhIQl7nFIGOj"
      }
    },
    {
      "cell_type": "code",
      "source": [
        "delta_x"
      ],
      "metadata": {
        "id": "nV6ZWjVfKFHh",
        "colab": {
          "base_uri": "https://localhost:8080/"
        },
        "outputId": "243a8238-2ac9-450a-98f0-e58d6a585823"
      },
      "execution_count": null,
      "outputs": [
        {
          "output_type": "execute_result",
          "data": {
            "text/plain": [
              "0.5"
            ]
          },
          "metadata": {},
          "execution_count": 177
        }
      ]
    },
    {
      "cell_type": "code",
      "source": [
        "soma_média = 0\n",
        "\n",
        "for i in range(len(médias)):\n",
        "  soma_média += função(médias[i])\n",
        "\n",
        "delta_x * soma_média, Fraction(delta_x * soma_média)"
      ],
      "metadata": {
        "colab": {
          "base_uri": "https://localhost:8080/"
        },
        "id": "ivgO9LQqJE30",
        "outputId": "6f7a0bc8-5306-400a-f1b1-67280a6b6be9"
      },
      "execution_count": null,
      "outputs": [
        {
          "output_type": "execute_result",
          "data": {
            "text/plain": [
              "(4.625, Fraction(37, 8))"
            ]
          },
          "metadata": {},
          "execution_count": 178
        }
      ]
    },
    {
      "cell_type": "markdown",
      "source": [
        "Notemos que, dentre os três tipos de somas, a soma média nos deu a aproximação mais exata."
      ],
      "metadata": {
        "id": "M3X8UC46NOKq"
      }
    },
    {
      "cell_type": "markdown",
      "source": [
        "## Utilizando um número 400 vezes maior de retângulos para as somas à esquerda, à direita e média"
      ],
      "metadata": {
        "id": "TL74PtqgOSop"
      }
    },
    {
      "cell_type": "code",
      "source": [
        "a = 0\n",
        "b = 2\n",
        "n = 1600"
      ],
      "metadata": {
        "id": "Y8yw77LpOb8d"
      },
      "execution_count": null,
      "outputs": []
    },
    {
      "cell_type": "code",
      "source": [
        "f'em nosso exemplo, o comprimento de cada retângulo é {(b - a) / n}'"
      ],
      "metadata": {
        "colab": {
          "base_uri": "https://localhost:8080/",
          "height": 35
        },
        "outputId": "751537f9-2b6b-4f35-9d72-ff377d8df18e",
        "id": "Ymqy5YzBOb8e"
      },
      "execution_count": null,
      "outputs": [
        {
          "output_type": "execute_result",
          "data": {
            "text/plain": [
              "'em nosso exemplo, o comprimento de cada retângulo é 0.00125'"
            ],
            "application/vnd.google.colaboratory.intrinsic+json": {
              "type": "string"
            }
          },
          "metadata": {},
          "execution_count": 180
        }
      ]
    },
    {
      "cell_type": "code",
      "source": [
        "delta_x = (b - a) / n\n",
        "delta_x"
      ],
      "metadata": {
        "colab": {
          "base_uri": "https://localhost:8080/"
        },
        "id": "ktnvYrd7RBpW",
        "outputId": "b44f2a00-6735-4416-a458-a0501ac3e321"
      },
      "execution_count": null,
      "outputs": [
        {
          "output_type": "execute_result",
          "data": {
            "text/plain": [
              "0.00125"
            ]
          },
          "metadata": {},
          "execution_count": 181
        }
      ]
    },
    {
      "cell_type": "markdown",
      "source": [
        "### Criando a nossa linha imaginária de forma dinâmica"
      ],
      "metadata": {
        "id": "mX7FWOGqPYDV"
      }
    },
    {
      "cell_type": "code",
      "source": [
        "np.linspace(start=0, stop=2, num=5)"
      ],
      "metadata": {
        "colab": {
          "base_uri": "https://localhost:8080/"
        },
        "id": "e3-s-hEVPbS6",
        "outputId": "82ae688f-8fb5-4d2f-80e4-0c4f6d0bd925"
      },
      "execution_count": null,
      "outputs": [
        {
          "output_type": "execute_result",
          "data": {
            "text/plain": [
              "array([0. , 0.5, 1. , 1.5, 2. ])"
            ]
          },
          "metadata": {},
          "execution_count": 182
        }
      ]
    },
    {
      "cell_type": "code",
      "source": [
        "valores = np.linspace(start=0, stop=2, num=n+1)\n",
        "valores"
      ],
      "metadata": {
        "colab": {
          "base_uri": "https://localhost:8080/"
        },
        "id": "npjn3O5YPgOD",
        "outputId": "68bd58ae-3d61-465a-be19-d81e816d1ecb"
      },
      "execution_count": null,
      "outputs": [
        {
          "output_type": "execute_result",
          "data": {
            "text/plain": [
              "array([0.00000e+00, 1.25000e-03, 2.50000e-03, ..., 1.99750e+00,\n",
              "       1.99875e+00, 2.00000e+00])"
            ]
          },
          "metadata": {},
          "execution_count": 183
        }
      ]
    },
    {
      "cell_type": "markdown",
      "source": [
        "### Nova Soma de Riemann à Esquerda"
      ],
      "metadata": {
        "id": "smybAzSiOs-6"
      }
    },
    {
      "cell_type": "code",
      "source": [
        "delta_x"
      ],
      "metadata": {
        "colab": {
          "base_uri": "https://localhost:8080/"
        },
        "id": "9i3odlroO3e0",
        "outputId": "1066c3db-f9c2-459f-80f5-1747e7ea2e7f"
      },
      "execution_count": null,
      "outputs": [
        {
          "output_type": "execute_result",
          "data": {
            "text/plain": [
              "0.00125"
            ]
          },
          "metadata": {},
          "execution_count": 184
        }
      ]
    },
    {
      "cell_type": "code",
      "source": [
        "valores_à_esquerda = valores[:n]\n",
        "soma_à_esquerda = 0\n",
        "\n",
        "for i in range(len(valores_à_esquerda)):\n",
        "  soma_à_esquerda += função(valores_à_esquerda[i])\n",
        "\n",
        "delta_x * soma_à_esquerda"
      ],
      "metadata": {
        "colab": {
          "base_uri": "https://localhost:8080/"
        },
        "id": "C0UAaJqcQVS6",
        "outputId": "456df6ac-8393-4ba2-f045-809338feff80"
      },
      "execution_count": null,
      "outputs": [
        {
          "output_type": "execute_result",
          "data": {
            "text/plain": [
              "4.664167187500003"
            ]
          },
          "metadata": {},
          "execution_count": 185
        }
      ]
    },
    {
      "cell_type": "markdown",
      "source": [
        "### Nova Soma de Riemann à Direita"
      ],
      "metadata": {
        "id": "lbV_BiFPO0UW"
      }
    },
    {
      "cell_type": "code",
      "source": [
        "delta_x"
      ],
      "metadata": {
        "colab": {
          "base_uri": "https://localhost:8080/"
        },
        "id": "a4Ua4wEUO49W",
        "outputId": "9d39c514-b998-4e4a-eb58-6ed45a99b404"
      },
      "execution_count": null,
      "outputs": [
        {
          "output_type": "execute_result",
          "data": {
            "text/plain": [
              "0.00125"
            ]
          },
          "metadata": {},
          "execution_count": 186
        }
      ]
    },
    {
      "cell_type": "code",
      "source": [
        "valores_à_direita = valores[-n:]\n",
        "soma_à_direita = 0\n",
        "\n",
        "for i in range(len(valores_à_direita)):\n",
        "  soma_à_direita += função(valores_à_direita[i])\n",
        "\n",
        "delta_x * soma_à_direita"
      ],
      "metadata": {
        "colab": {
          "base_uri": "https://localhost:8080/"
        },
        "id": "ef8sKfX1Qa6g",
        "outputId": "5059c50e-7fda-4db6-9a83-df5d7e6e5c13"
      },
      "execution_count": null,
      "outputs": [
        {
          "output_type": "execute_result",
          "data": {
            "text/plain": [
              "4.669167187500003"
            ]
          },
          "metadata": {},
          "execution_count": 187
        }
      ]
    },
    {
      "cell_type": "markdown",
      "source": [
        "### Nova Soma Média"
      ],
      "metadata": {
        "id": "HJHm-EYZO1yT"
      }
    },
    {
      "cell_type": "code",
      "source": [
        "delta_x"
      ],
      "metadata": {
        "colab": {
          "base_uri": "https://localhost:8080/"
        },
        "id": "ZivSq3mTO5dV",
        "outputId": "cd5e3b43-e1e2-4c01-bc0c-c27c507b14c8"
      },
      "execution_count": null,
      "outputs": [
        {
          "output_type": "execute_result",
          "data": {
            "text/plain": [
              "0.00125"
            ]
          },
          "metadata": {},
          "execution_count": 188
        }
      ]
    },
    {
      "cell_type": "code",
      "source": [
        "médias = []\n",
        "\n",
        "for i in range(len(valores) - 1):\n",
        "  média = (valores[i] + valores[i + 1]) / 2\n",
        "  médias.append(média)"
      ],
      "metadata": {
        "id": "6vPqaG40QjqC"
      },
      "execution_count": null,
      "outputs": []
    },
    {
      "cell_type": "code",
      "source": [
        "soma_média = 0\n",
        "\n",
        "for i in range(len(médias)):\n",
        "  soma_média += função(médias[i])\n",
        "\n",
        "delta_x * soma_média"
      ],
      "metadata": {
        "colab": {
          "base_uri": "https://localhost:8080/"
        },
        "id": "km8DsmpGQuHx",
        "outputId": "d6c2e7d8-e9b7-4cd7-a0bd-4c624d0d6d7f"
      },
      "execution_count": null,
      "outputs": [
        {
          "output_type": "execute_result",
          "data": {
            "text/plain": [
              "4.66666640625"
            ]
          },
          "metadata": {},
          "execution_count": 190
        }
      ]
    },
    {
      "cell_type": "markdown",
      "source": [
        "### Qual resultado foi mais próximo?"
      ],
      "metadata": {
        "id": "VqdbQhQIUTyC"
      }
    },
    {
      "cell_type": "code",
      "source": [
        "def número_mais_próximo(lista, valor_referência):\n",
        "  return min(lista, key=lambda x: abs(x - valor_referência))"
      ],
      "metadata": {
        "id": "KgRrDsjfTuEK"
      },
      "execution_count": null,
      "outputs": []
    },
    {
      "cell_type": "code",
      "source": [
        "números = [delta_x * soma_à_esquerda, delta_x * soma_à_direita, delta_x * soma_média]\n",
        "valor_ref = 14 / 3"
      ],
      "metadata": {
        "id": "AonpAFsRUWYo"
      },
      "execution_count": null,
      "outputs": []
    },
    {
      "cell_type": "code",
      "source": [
        "f'o número mais próximo de {valor_ref} é {número_mais_próximo(números, valor_ref)}'"
      ],
      "metadata": {
        "colab": {
          "base_uri": "https://localhost:8080/",
          "height": 35
        },
        "id": "qtddxXxXUcPD",
        "outputId": "8358fe9e-6c18-467f-824e-33148937f7d6"
      },
      "execution_count": null,
      "outputs": [
        {
          "output_type": "execute_result",
          "data": {
            "text/plain": [
              "'o número mais próximo de 4.666666666666667 é 4.66666640625'"
            ],
            "application/vnd.google.colaboratory.intrinsic+json": {
              "type": "string"
            }
          },
          "metadata": {},
          "execution_count": 193
        }
      ]
    },
    {
      "cell_type": "markdown",
      "source": [
        "## Regra Trapezoidal"
      ],
      "metadata": {
        "id": "_Ufej--uJ2iP"
      }
    },
    {
      "cell_type": "markdown",
      "source": [
        "Para este exemplo, vamos assumir a função $f(x) = x^2$, queremos calcular a área formada entre $x = 0$ e $x = 10$."
      ],
      "metadata": {
        "id": "DGLiVlceZMW_"
      }
    },
    {
      "cell_type": "code",
      "source": [
        "def função(x):\n",
        "  return x ** 2"
      ],
      "metadata": {
        "id": "WQ8_uIE3ZAfu"
      },
      "execution_count": null,
      "outputs": []
    },
    {
      "cell_type": "code",
      "source": [
        "x = sp.symbols('x')"
      ],
      "metadata": {
        "id": "RP3wNVZDZAfv"
      },
      "execution_count": null,
      "outputs": []
    },
    {
      "cell_type": "code",
      "source": [
        "f = x ** 2\n",
        "f"
      ],
      "metadata": {
        "colab": {
          "base_uri": "https://localhost:8080/",
          "height": 38
        },
        "outputId": "3eafb8de-91d5-4c1b-cd48-9d3e4b4a1136",
        "id": "9RTu0XqgZAfv"
      },
      "execution_count": null,
      "outputs": [
        {
          "output_type": "execute_result",
          "data": {
            "text/plain": [
              "x**2"
            ],
            "text/latex": "$\\displaystyle x^{2}$"
          },
          "metadata": {},
          "execution_count": 196
        }
      ]
    },
    {
      "cell_type": "markdown",
      "source": [
        "Para termos um norte nas partes posteriores, calculamos o resultado exato utilizando o SymPy, para usarmos de referência."
      ],
      "metadata": {
        "id": "-uSKwCiVZAfv"
      }
    },
    {
      "cell_type": "code",
      "source": [
        "sp.integrate(f, (x, 0, 10))"
      ],
      "metadata": {
        "colab": {
          "base_uri": "https://localhost:8080/",
          "height": 51
        },
        "outputId": "c00062e6-d2be-4679-a5c5-2e0e0e4c6271",
        "id": "pTm5s3crZAfv"
      },
      "execution_count": null,
      "outputs": [
        {
          "output_type": "execute_result",
          "data": {
            "text/plain": [
              "1000/3"
            ],
            "text/latex": "$\\displaystyle \\frac{1000}{3}$"
          },
          "metadata": {},
          "execution_count": 197
        }
      ]
    },
    {
      "cell_type": "code",
      "source": [
        "1000 / 3"
      ],
      "metadata": {
        "colab": {
          "base_uri": "https://localhost:8080/"
        },
        "outputId": "f858ba79-5994-4723-c0fc-595a1ff002cc",
        "id": "2w00gdr-ZAfv"
      },
      "execution_count": null,
      "outputs": [
        {
          "output_type": "execute_result",
          "data": {
            "text/plain": [
              "333.3333333333333"
            ]
          },
          "metadata": {},
          "execution_count": 198
        }
      ]
    },
    {
      "cell_type": "markdown",
      "source": [
        "Vamos utilizar 5 retângulos $(n = 5)$."
      ],
      "metadata": {
        "id": "GS0b9dS3Zb99"
      }
    },
    {
      "cell_type": "markdown",
      "source": [
        "Assumindo o intervalo de $x$ como $[{}_a 0, {}_b 10]$, $\\Delta x$, ou o comprimento de cada retângulo é dado pela diferença entre $b$ e $a$ dividida pelo número de retângulos, ou $\\frac{{b - a}}{{n}}$."
      ],
      "metadata": {
        "id": "8L449xtQZqum"
      }
    },
    {
      "cell_type": "code",
      "source": [
        "a = 0\n",
        "b = 10\n",
        "n = 5"
      ],
      "metadata": {
        "id": "q4g7Vxv6Zqun"
      },
      "execution_count": null,
      "outputs": []
    },
    {
      "cell_type": "code",
      "source": [
        "f'em nosso exemplo, o comprimento de cada retângulo é {(b - a) / n}'"
      ],
      "metadata": {
        "colab": {
          "base_uri": "https://localhost:8080/",
          "height": 35
        },
        "outputId": "4255e31a-46b6-459c-c67f-ca3be98f3f1a",
        "id": "XO_fj8ufZqun"
      },
      "execution_count": null,
      "outputs": [
        {
          "output_type": "execute_result",
          "data": {
            "text/plain": [
              "'em nosso exemplo, o comprimento de cada retângulo é 2.0'"
            ],
            "application/vnd.google.colaboratory.intrinsic+json": {
              "type": "string"
            }
          },
          "metadata": {},
          "execution_count": 200
        }
      ]
    },
    {
      "cell_type": "code",
      "source": [
        "delta_x = (b - a) / n\n",
        "delta_x"
      ],
      "metadata": {
        "colab": {
          "base_uri": "https://localhost:8080/"
        },
        "outputId": "e47320b4-49d9-4f31-d1fc-5d89cfc25db1",
        "id": "PsQtswpqZqun"
      },
      "execution_count": null,
      "outputs": [
        {
          "output_type": "execute_result",
          "data": {
            "text/plain": [
              "2.0"
            ]
          },
          "metadata": {},
          "execution_count": 201
        }
      ]
    },
    {
      "cell_type": "markdown",
      "source": [
        "Criando nossa linha imaginária."
      ],
      "metadata": {
        "id": "Zy9nFDGiZ8_o"
      }
    },
    {
      "cell_type": "code",
      "source": [
        "valores = np.linspace(start=0, stop=10, num=n+1)\n",
        "valores"
      ],
      "metadata": {
        "id": "8_PQyiejKFxL",
        "colab": {
          "base_uri": "https://localhost:8080/"
        },
        "outputId": "bc53810e-c411-4a0a-efba-874e831ba4d9"
      },
      "execution_count": null,
      "outputs": [
        {
          "output_type": "execute_result",
          "data": {
            "text/plain": [
              "array([ 0.,  2.,  4.,  6.,  8., 10.])"
            ]
          },
          "metadata": {},
          "execution_count": 202
        }
      ]
    },
    {
      "cell_type": "markdown",
      "source": [
        "Para a Regra Trapezoidal, diferentemente dos métodos anteriores, vamos utilizar todos os pontos da linha."
      ],
      "metadata": {
        "id": "Ljh8v7IfaYeH"
      }
    },
    {
      "cell_type": "markdown",
      "source": [
        "$R_t = \\frac{\\Delta x}{2} \\cdot [f(x_0) + 2\\cdot f(x_1) + 2 \\cdot f(x_2) + (...) + 2 \\cdot f(x_{n-1}) + f(x_n)]$"
      ],
      "metadata": {
        "id": "m29_eEdoan9i"
      }
    },
    {
      "cell_type": "markdown",
      "source": [
        "Onde:\n",
        "* $\\Delta x$ é o tamanho do intervalo entre os pontos $x_i$ consecutivos, ou a largura dos retângulos.\n",
        "* $f(x_i)$ é o valor da função no ponto $x$."
      ],
      "metadata": {
        "id": "ny4ir2AocnhL"
      }
    },
    {
      "cell_type": "code",
      "source": [
        "resultado = 0\n",
        "\n",
        "for i in range(len(valores)):\n",
        "  resultado += (2 * função(valores[i])) if i != 0 and i != len(valores) - 1 else função(valores[i])\n",
        "\n",
        "(delta_x / 2) * resultado"
      ],
      "metadata": {
        "colab": {
          "base_uri": "https://localhost:8080/"
        },
        "id": "LG6muzcfdejK",
        "outputId": "bdfc0244-3292-4ce8-a868-3ac284795511"
      },
      "execution_count": null,
      "outputs": [
        {
          "output_type": "execute_result",
          "data": {
            "text/plain": [
              "340.0"
            ]
          },
          "metadata": {},
          "execution_count": 203
        }
      ]
    },
    {
      "cell_type": "markdown",
      "source": [
        "A regra trapezoidal fez um bom trabalho em nos aproximar da resposta exata do problema, e, como nas outras regras de Riemann, com um número maior de retângulos, a resposta seria mais próxima do valor verdadeiro."
      ],
      "metadata": {
        "id": "Q46HmeeVe9Z5"
      }
    },
    {
      "cell_type": "markdown",
      "source": [
        "## Utilizando um número 400 vezes maior de retângulos para a regra trapeizodal"
      ],
      "metadata": {
        "id": "f8umqqX4fYUL"
      }
    },
    {
      "cell_type": "code",
      "source": [
        "a = 0\n",
        "b = 10\n",
        "n = 1600"
      ],
      "metadata": {
        "id": "LvZun01Cfe1w"
      },
      "execution_count": null,
      "outputs": []
    },
    {
      "cell_type": "code",
      "source": [
        "f'em nosso exemplo, o comprimento de cada retângulo é {(b - a) / n}'"
      ],
      "metadata": {
        "colab": {
          "base_uri": "https://localhost:8080/",
          "height": 35
        },
        "outputId": "e04e8373-661e-4cf8-de8d-052152446247",
        "id": "TOGi7KISfe12"
      },
      "execution_count": null,
      "outputs": [
        {
          "output_type": "execute_result",
          "data": {
            "text/plain": [
              "'em nosso exemplo, o comprimento de cada retângulo é 0.00625'"
            ],
            "application/vnd.google.colaboratory.intrinsic+json": {
              "type": "string"
            }
          },
          "metadata": {},
          "execution_count": 205
        }
      ]
    },
    {
      "cell_type": "code",
      "source": [
        "delta_x = (b - a) / n\n",
        "delta_x"
      ],
      "metadata": {
        "colab": {
          "base_uri": "https://localhost:8080/"
        },
        "outputId": "91087c06-6809-410f-ed83-d9d353e1e072",
        "id": "AkF2nyuyfe12"
      },
      "execution_count": null,
      "outputs": [
        {
          "output_type": "execute_result",
          "data": {
            "text/plain": [
              "0.00625"
            ]
          },
          "metadata": {},
          "execution_count": 206
        }
      ]
    },
    {
      "cell_type": "code",
      "source": [
        "valores = np.linspace(start=0, stop=10, num=n+1)\n",
        "valores"
      ],
      "metadata": {
        "colab": {
          "base_uri": "https://localhost:8080/"
        },
        "id": "GW3e4vUgf8XC",
        "outputId": "b61edbf3-701a-45b3-b0f2-69b780b85751"
      },
      "execution_count": null,
      "outputs": [
        {
          "output_type": "execute_result",
          "data": {
            "text/plain": [
              "array([0.00000e+00, 6.25000e-03, 1.25000e-02, ..., 9.98750e+00,\n",
              "       9.99375e+00, 1.00000e+01])"
            ]
          },
          "metadata": {},
          "execution_count": 207
        }
      ]
    },
    {
      "cell_type": "code",
      "source": [
        "resultado = 0\n",
        "\n",
        "for i in range(len(valores)):\n",
        "  resultado += (2 * função(valores[i])) if i != 0 and i != len(valores) - 1 else função(valores[i])\n",
        "\n",
        "(delta_x / 2) * resultado"
      ],
      "metadata": {
        "colab": {
          "base_uri": "https://localhost:8080/"
        },
        "id": "T51liAYVeBvf",
        "outputId": "df92c23d-ec7f-4efe-f95d-453b1acbaff2"
      },
      "execution_count": null,
      "outputs": [
        {
          "output_type": "execute_result",
          "data": {
            "text/plain": [
              "333.3333984375001"
            ]
          },
          "metadata": {},
          "execution_count": 208
        }
      ]
    }
  ]
}